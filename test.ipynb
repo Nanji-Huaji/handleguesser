{
 "cells": [
  {
   "cell_type": "code",
   "execution_count": 3,
   "id": "9723beeb",
   "metadata": {},
   "outputs": [
    {
     "name": "stdout",
     "output_type": "stream",
     "text": [
      "Total idioms: 29760\n"
     ]
    }
   ],
   "source": [
    "import json\n",
    "\n",
    "with open(\"data/idioms.json\", \"r\", encoding=\"utf-8\") as f:\n",
    "    idioms = json.load(f)\n",
    "\n",
    "print(\"Total idioms:\", len(idioms))"
   ]
  },
  {
   "cell_type": "code",
   "execution_count": 5,
   "id": "917c0d80",
   "metadata": {},
   "outputs": [
    {
     "name": "stdout",
     "output_type": "stream",
     "text": [
      "    格式:\n",
      "     [第1字条件, 第2字条件, 第3字条件, 第4字条件], 任意字条件, 任意字条件, 任意字条件\n",
      "    /[反选第1字条件, 反选第2字条件, 反选第3字条件, 反选第4字条件], 反选任意字条件, 反选任意字条件, 反选任意字条件\n",
      "{'is_exclusion': False, 'first_conditions': ['1', 'ai', 'yi1', '4'], 'other_conditions': ['u', '3']}\n"
     ]
    }
   ],
   "source": [
    "def input_guess():\n",
    "    \"\"\"\n",
    "    根据用户输入的格式解析条件并返回条件列表。\n",
    "    格式: [第1字条件, 第2字条件, 第3字条件, 第4字条件], 任意字条件, 任意字条件, 任意字条件\n",
    "    或者：/[反选第1字条件, 反选第2字条件, 反选第3字条件, 反选第4字条件], 反选任意字条件, 反选任意字条件, 反选任意字条件\n",
    "    \"\"\"\n",
    "    print(\n",
    "        \"\"\"    格式:\n",
    "     [第1字条件, 第2字条件, 第3字条件, 第4字条件], 任意字条件, 任意字条件, 任意字条件\n",
    "    /[反选第1字条件, 反选第2字条件, 反选第3字条件, 反选第4字条件], 反选任意字条件, 反选任意字条件, 反选任意字条件\"\"\"\n",
    "    )\n",
    "    user_input = \"[1,ai,yi1,4],u,3\"\n",
    "\n",
    "    # 判断是否是反选条件\n",
    "    is_exclusion = user_input.startswith(\"/\")\n",
    "    if is_exclusion:\n",
    "        user_input = user_input[1:]  # 去掉开头的 \"/\"\n",
    "\n",
    "    # 解析条件\n",
    "    try:\n",
    "        parts = user_input.split(\"],\")\n",
    "        first_part = parts[0].strip(\"[]\")  # 提取第1部分条件\n",
    "        other_parts = parts[1:]  # 提取其余部分条件\n",
    "\n",
    "        # 将条件分割为列表\n",
    "        first_conditions = [cond.strip() for cond in first_part.split(\",\")]\n",
    "        other_conditions = [cond.strip() for cond in \",\".join(other_parts).split(\",\")]\n",
    "\n",
    "        # 返回解析结果\n",
    "        return {\n",
    "            \"is_exclusion\": is_exclusion,\n",
    "            \"first_conditions\": first_conditions,\n",
    "            \"other_conditions\": other_conditions,\n",
    "        }\n",
    "    except Exception as e:\n",
    "        print(f\"输入格式错误: {e}\")\n",
    "        return None\n",
    "    \n",
    "print(input_guess())"
   ]
  },
  {
   "cell_type": "code",
   "execution_count": 18,
   "id": "6cf97fc8",
   "metadata": {},
   "outputs": [
    {
     "name": "stdout",
     "output_type": "stream",
     "text": [
      "a\n"
     ]
    }
   ],
   "source": [
    "\n",
    "import re\n",
    "\n",
    "condition = \"a1\"\n",
    "\n",
    "shengmu = [\n",
    "    \"b\",\n",
    "    \"p\",\n",
    "    \"m\",\n",
    "    \"f\",  # 双唇音和唇齿音\n",
    "    \"d\",\n",
    "    \"t\",\n",
    "    \"n\",\n",
    "    \"l\",  # 舌尖音\n",
    "    \"g\",\n",
    "    \"k\",\n",
    "    \"h\",  # 舌根音\n",
    "    \"j\",\n",
    "    \"q\",\n",
    "    \"x\",  # 舌面音\n",
    "    \"zh\",\n",
    "    \"ch\",\n",
    "    \"sh\",\n",
    "    \"r\",  # 卷舌音\n",
    "    \"z\",\n",
    "    \"c\",\n",
    "    \"s\",  # 平舌音\n",
    "    \"y\",\n",
    "    \"w\",  # 半元音\n",
    "]\n",
    "\n",
    "yunmu = [\n",
    "    \"a\",\n",
    "    \"o\",\n",
    "    \"e\",\n",
    "    \"i\",\n",
    "    \"u\",\n",
    "    \"ü\",\n",
    "    \"v\",  # 单韵母\n",
    "    \"ai\",\n",
    "    \"ei\",\n",
    "    \"ao\",\n",
    "    \"ou\",\n",
    "    \"ia\",\n",
    "    \"ie\",\n",
    "    \"ua\",\n",
    "    \"uo\",\n",
    "    \"üe\",  # 复韵母\n",
    "    \"ve\",\n",
    "    \"an\",\n",
    "    \"en\",\n",
    "    \"ang\",\n",
    "    \"eng\",\n",
    "    \"ong\",\n",
    "    \"ian\",\n",
    "    \"in\",\n",
    "    \"iang\",\n",
    "    \"ing\",\n",
    "    \"uan\",\n",
    "    \"un\",\n",
    "    \"uang\",\n",
    "    \"ueng\",\n",
    "    \"üan\",\n",
    "    \"ün\",  # 鼻韵母\n",
    "]\n",
    "\n",
    "def get_yunmu(pinyin: str) -> str:\n",
    "    global yunmu\n",
    "    yunmu_pattern = rf\"({'|'.join(yunmu)})\"\n",
    "    match = re.search(yunmu_pattern, pinyin)\n",
    "    if match:\n",
    "        return match.group(0)  # 提取匹配到的韵母\n",
    "    return None\n",
    "\n",
    "\n",
    "def get_shengmu(pinyin: str) -> str:\n",
    "    global shengmu\n",
    "    shengmu_pattern = rf\"^({'|'.join(shengmu)})\"\n",
    "    match = re.match(shengmu_pattern, pinyin)\n",
    "    if match:\n",
    "        return match.group(0)  # 提取匹配到的声母\n",
    "    return None\n",
    "\n",
    "\n",
    "def get_shengdiao(pinyin: str) -> str:\n",
    "    shengdiao_pattern = r\"\\d$\"\n",
    "    match = re.search(shengdiao_pattern, pinyin)\n",
    "    if match:\n",
    "        return match.group(0)  # 提取匹配到的声调\n",
    "    return None\n",
    "\n",
    "print(get_yunmu(\"ai\"))"
   ]
  }
 ],
 "metadata": {
  "kernelspec": {
   "display_name": "handleguesser",
   "language": "python",
   "name": "python3"
  },
  "language_info": {
   "codemirror_mode": {
    "name": "ipython",
    "version": 3
   },
   "file_extension": ".py",
   "mimetype": "text/x-python",
   "name": "python",
   "nbconvert_exporter": "python",
   "pygments_lexer": "ipython3",
   "version": "3.12.9"
  }
 },
 "nbformat": 4,
 "nbformat_minor": 5
}
